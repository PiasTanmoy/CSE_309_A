{
  "nbformat": 4,
  "nbformat_minor": 0,
  "metadata": {
    "colab": {
      "name": "CSE_309_Class_5.ipynb",
      "provenance": [],
      "authorship_tag": "ABX9TyM6GMGgyrFLIhUcegTH59Qh",
      "include_colab_link": true
    },
    "kernelspec": {
      "name": "python3",
      "display_name": "Python 3"
    }
  },
  "cells": [
    {
      "cell_type": "markdown",
      "metadata": {
        "id": "view-in-github",
        "colab_type": "text"
      },
      "source": [
        "<a href=\"https://colab.research.google.com/github/PiasTanmoy/CSE_309_A/blob/master/CSE_309_Class_5.ipynb\" target=\"_parent\"><img src=\"https://colab.research.google.com/assets/colab-badge.svg\" alt=\"Open In Colab\"/></a>"
      ]
    },
    {
      "cell_type": "markdown",
      "metadata": {
        "id": "e_WgyytwneXq",
        "colab_type": "text"
      },
      "source": [
        "**LOOP**"
      ]
    },
    {
      "cell_type": "markdown",
      "metadata": {
        "id": "iVP6ETBzpMMX",
        "colab_type": "text"
      },
      "source": [
        "print: 0-9\n",
        "JAVA code:\n",
        "```\n",
        "for(int i=0; i<10; i++) {\n",
        "  System.out.println(i)\n",
        "}\n",
        "\n",
        "int i=0;\n",
        "while (i<10) {\n",
        "  System.out.println(i);\n",
        "  i++;\n",
        "}\n",
        "```\n",
        "\n"
      ]
    },
    {
      "cell_type": "code",
      "metadata": {
        "id": "fUxSB0kHpL4l",
        "colab_type": "code",
        "colab": {}
      },
      "source": [
        "i = 0\n",
        "while (i<10) :\n",
        "  print(i)\n",
        "  i = i + 1"
      ],
      "execution_count": null,
      "outputs": []
    },
    {
      "cell_type": "markdown",
      "metadata": {
        "id": "HNrlNlZCqo_g",
        "colab_type": "text"
      },
      "source": [
        "1 + 2 + . . ..  + 10 = 55"
      ]
    },
    {
      "cell_type": "code",
      "metadata": {
        "id": "ESs6gFsEnT2L",
        "colab_type": "code",
        "colab": {
          "base_uri": "https://localhost:8080/",
          "height": 34
        },
        "outputId": "0b261e66-2d38-476a-932c-8de4c0a63027"
      },
      "source": [
        "i=1\n",
        "sum = 0\n",
        "while i<11 :\n",
        "  if(i == 10):\n",
        "    print(i, end=' ')\n",
        "  else:\n",
        "    print(i, \"+\" , end=' ')\n",
        "  sum = sum + i\n",
        "  i += 1\n",
        "print(\"=\", sum)"
      ],
      "execution_count": 7,
      "outputs": [
        {
          "output_type": "stream",
          "text": [
            "1 + 2 + 3 + 4 + 5 + 6 + 7 + 8 + 9 + 10 = 55\n"
          ],
          "name": "stdout"
        }
      ]
    },
    {
      "cell_type": "markdown",
      "metadata": {
        "id": "5qB-e1YPsQSR",
        "colab_type": "text"
      },
      "source": [
        "\n",
        "\n",
        "```\n",
        "input:\n",
        "start: 10\n",
        "end: 20\n",
        "output:\n",
        "10 + 11 + ... + 20 = ?\n",
        "```\n",
        "\n"
      ]
    },
    {
      "cell_type": "code",
      "metadata": {
        "id": "lmSUHyNCsP41",
        "colab_type": "code",
        "colab": {
          "base_uri": "https://localhost:8080/",
          "height": 67
        },
        "outputId": "9bba4083-ad32-4bad-bcda-e6511c5dcd4f"
      },
      "source": [
        "start = int(input(\"Start: \"))\n",
        "end_p = int(input(\"End: \"))\n",
        "\n",
        "sum = 0\n",
        "i=start\n",
        "\n",
        "while i<end_p+1 :\n",
        "  if(i == end_p):\n",
        "    print(i, end=' ')\n",
        "  else:\n",
        "    print(i, \"+\" , end=' ')\n",
        "  sum = sum + i\n",
        "  i += 1\n",
        "print(\"=\", sum)"
      ],
      "execution_count": 9,
      "outputs": [
        {
          "output_type": "stream",
          "text": [
            "Start: 10\n",
            "End: 20\n",
            "10 + 11 + 12 + 13 + 14 + 15 + 16 + 17 + 18 + 19 + 20 = 165\n"
          ],
          "name": "stdout"
        }
      ]
    },
    {
      "cell_type": "markdown",
      "metadata": {
        "id": "_DaK5MT-tQVl",
        "colab_type": "text"
      },
      "source": [
        "\n",
        "\n",
        "```\n",
        "input:\n",
        "start: 20\n",
        "finish: 40\n",
        "output:\n",
        "20 + 22 + 24 + ... + 40 =?\n",
        "```\n",
        "\n"
      ]
    },
    {
      "cell_type": "code",
      "metadata": {
        "id": "lQ_-Skc3tZgI",
        "colab_type": "code",
        "colab": {
          "base_uri": "https://localhost:8080/",
          "height": 67
        },
        "outputId": "9a902587-96f4-4ce0-f86f-374764ccd81d"
      },
      "source": [
        "start = int(input(\"Start: \"))\n",
        "end_p = int(input(\"End: \"))\n",
        "\n",
        "sum = 0\n",
        "i=start\n",
        "\n",
        "while i<end_p+1 :\n",
        "  if i%2 == 0:\n",
        "    \n",
        "    if(i == end_p):\n",
        "      print(i, end=' ')\n",
        "    else:\n",
        "      print(i, \"+\" , end=' ')\n",
        "    \n",
        "    sum = sum + i\n",
        "\n",
        "  i += 1\n",
        "print(\"=\", sum)"
      ],
      "execution_count": 10,
      "outputs": [
        {
          "output_type": "stream",
          "text": [
            "Start: 20\n",
            "End: 40\n",
            "20 + 22 + 24 + 26 + 28 + 30 + 32 + 34 + 36 + 38 + 40 = 330\n"
          ],
          "name": "stdout"
        }
      ]
    },
    {
      "cell_type": "code",
      "metadata": {
        "id": "xajV3lOcu8cY",
        "colab_type": "code",
        "colab": {
          "base_uri": "https://localhost:8080/",
          "height": 67
        },
        "outputId": "dfc9e226-cf8c-45bd-b9fb-149516b035b1"
      },
      "source": [
        "start = int(input(\"Start: \"))\n",
        "end_p = int(input(\"End: \"))\n",
        "\n",
        "sum = 0\n",
        "i=start\n",
        "\n",
        "while i<end_p+1 :\n",
        "    \n",
        "  if(i == end_p):\n",
        "    print(i, end=' ')\n",
        "  else:\n",
        "    print(i, \"+\" , end=' ')\n",
        "    \n",
        "  sum = sum + i\n",
        "  i += 2\n",
        "\n",
        "print(\"=\", sum)"
      ],
      "execution_count": 11,
      "outputs": [
        {
          "output_type": "stream",
          "text": [
            "Start: 20\n",
            "End: 40\n",
            "20 + 22 + 24 + 26 + 28 + 30 + 32 + 34 + 36 + 38 + 40 = 330\n"
          ],
          "name": "stdout"
        }
      ]
    },
    {
      "cell_type": "code",
      "metadata": {
        "id": "p_sGSgIjvVdv",
        "colab_type": "code",
        "colab": {
          "base_uri": "https://localhost:8080/",
          "height": 67
        },
        "outputId": "8c867a2c-0cec-4afc-ba82-caae36dbd86a"
      },
      "source": [
        "start = int(input(\"Start: \"))\n",
        "end_p = int(input(\"End: \"))\n",
        "\n",
        "if start%2 == 1:\n",
        "  start = start+1\n",
        "\n",
        "if end_p%2 == 1:\n",
        "  end_p = end_p - 1\n",
        "\n",
        "sum = 0\n",
        "i=start\n",
        "\n",
        "while i<end_p+1 :\n",
        "  if(i == end_p):\n",
        "    print(i, end=' ')\n",
        "  else:\n",
        "    print(i, \"+\" , end=' ')\n",
        "  \n",
        "  sum = sum + i\n",
        "  i += 2\n",
        "\n",
        "print(\"=\", sum)"
      ],
      "execution_count": 14,
      "outputs": [
        {
          "output_type": "stream",
          "text": [
            "Start: 9\n",
            "End: 21\n",
            "10 + 12 + 14 + 16 + 18 + 20 = 90\n"
          ],
          "name": "stdout"
        }
      ]
    },
    {
      "cell_type": "code",
      "metadata": {
        "id": "c2oieEbvw-HN",
        "colab_type": "code",
        "colab": {
          "base_uri": "https://localhost:8080/",
          "height": 67
        },
        "outputId": "ada23ef2-ff55-4596-aae7-0ceb596e96fb"
      },
      "source": [
        "start = int(input(\"Start: \"))\n",
        "end_p = int(input(\"End: \"))\n",
        "\n",
        "if start%2 == 1:\n",
        "  start = start+1\n",
        "\n",
        "if end_p%2 == 1:\n",
        "  end_p = end_p - 1\n",
        "\n",
        "sum = 0\n",
        "i=start\n",
        "\n",
        "while i<end_p+1 :\n",
        "  if(i == end_p):\n",
        "    print(i, end=' ')\n",
        "  else:\n",
        "    print(i, \"+\" , end=' ')\n",
        "  \n",
        "  sum = sum + i\n",
        "  i += 2\n",
        "\n",
        "print(\"=\", sum)"
      ],
      "execution_count": 17,
      "outputs": [
        {
          "output_type": "stream",
          "text": [
            "Start: 9\n",
            "End: 21\n",
            "10 + 12 + 14 + 16 + 18 + 20 = 90\n"
          ],
          "name": "stdout"
        }
      ]
    },
    {
      "cell_type": "markdown",
      "metadata": {
        "id": "K4CFNh4GwXak",
        "colab_type": "text"
      },
      "source": [
        "**Range**"
      ]
    },
    {
      "cell_type": "code",
      "metadata": {
        "id": "hqkIjcZOxmpF",
        "colab_type": "code",
        "colab": {}
      },
      "source": [
        ""
      ],
      "execution_count": null,
      "outputs": []
    },
    {
      "cell_type": "markdown",
      "metadata": {
        "id": "K8fnvEmxxm8i",
        "colab_type": "text"
      },
      "source": [
        ""
      ]
    }
  ]
}